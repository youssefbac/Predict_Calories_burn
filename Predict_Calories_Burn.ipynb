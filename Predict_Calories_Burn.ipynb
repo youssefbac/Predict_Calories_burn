{
 "cells": [
  {
   "cell_type": "code",
   "execution_count": 1,
   "id": "8bc38ad2",
   "metadata": {},
   "outputs": [],
   "source": [
    "import pandas as pd\n",
    "import numpy as np\n",
    "import warnings\n",
    "warnings.filterwarnings('ignore')"
   ]
  },
  {
   "cell_type": "code",
   "execution_count": 37,
   "id": "b683c3af",
   "metadata": {},
   "outputs": [],
   "source": [
    "import seaborn as sns\n",
    "import matplotlib.pyplot as plt\n",
    "from sklearn.preprocessing import StandardScaler,OrdinalEncoder\n",
    "from sklearn.metrics import r2_score,mean_absolute_error\n",
    "from sklearn.model_selection import train_test_split,cross_val_score,KFold\n",
    "from sklearn.pipeline import Pipeline\n",
    "from sklearn.compose import ColumnTransformer\n",
    "from sklearn.linear_model import LinearRegression\n",
    "from sklearn.ensemble import RandomForestRegressor\n",
    "from xgboost import XGBRegressor\n",
    "from sklearn import set_config\n",
    "import pickle\n",
    "from tkinter import *"
   ]
  },
  {
   "cell_type": "code",
   "execution_count": 3,
   "id": "601f19f3",
   "metadata": {},
   "outputs": [],
   "source": [
    "df_c=pd.read_csv('calories.csv')\n",
    "df_e=pd.read_csv('exercise.csv')"
   ]
  },
  {
   "cell_type": "code",
   "execution_count": 4,
   "id": "67bbcef9",
   "metadata": {},
   "outputs": [
    {
     "data": {
      "text/html": [
       "<div>\n",
       "<style scoped>\n",
       "    .dataframe tbody tr th:only-of-type {\n",
       "        vertical-align: middle;\n",
       "    }\n",
       "\n",
       "    .dataframe tbody tr th {\n",
       "        vertical-align: top;\n",
       "    }\n",
       "\n",
       "    .dataframe thead th {\n",
       "        text-align: right;\n",
       "    }\n",
       "</style>\n",
       "<table border=\"1\" class=\"dataframe\">\n",
       "  <thead>\n",
       "    <tr style=\"text-align: right;\">\n",
       "      <th></th>\n",
       "      <th>User_ID</th>\n",
       "      <th>Gender</th>\n",
       "      <th>Age</th>\n",
       "      <th>Height</th>\n",
       "      <th>Weight</th>\n",
       "      <th>Duration</th>\n",
       "      <th>Heart_Rate</th>\n",
       "      <th>Body_Temp</th>\n",
       "    </tr>\n",
       "  </thead>\n",
       "  <tbody>\n",
       "    <tr>\n",
       "      <th>0</th>\n",
       "      <td>14733363</td>\n",
       "      <td>male</td>\n",
       "      <td>68</td>\n",
       "      <td>190.0</td>\n",
       "      <td>94.0</td>\n",
       "      <td>29.0</td>\n",
       "      <td>105.0</td>\n",
       "      <td>40.8</td>\n",
       "    </tr>\n",
       "    <tr>\n",
       "      <th>1</th>\n",
       "      <td>14861698</td>\n",
       "      <td>female</td>\n",
       "      <td>20</td>\n",
       "      <td>166.0</td>\n",
       "      <td>60.0</td>\n",
       "      <td>14.0</td>\n",
       "      <td>94.0</td>\n",
       "      <td>40.3</td>\n",
       "    </tr>\n",
       "    <tr>\n",
       "      <th>2</th>\n",
       "      <td>11179863</td>\n",
       "      <td>male</td>\n",
       "      <td>69</td>\n",
       "      <td>179.0</td>\n",
       "      <td>79.0</td>\n",
       "      <td>5.0</td>\n",
       "      <td>88.0</td>\n",
       "      <td>38.7</td>\n",
       "    </tr>\n",
       "    <tr>\n",
       "      <th>3</th>\n",
       "      <td>16180408</td>\n",
       "      <td>female</td>\n",
       "      <td>34</td>\n",
       "      <td>179.0</td>\n",
       "      <td>71.0</td>\n",
       "      <td>13.0</td>\n",
       "      <td>100.0</td>\n",
       "      <td>40.5</td>\n",
       "    </tr>\n",
       "    <tr>\n",
       "      <th>4</th>\n",
       "      <td>17771927</td>\n",
       "      <td>female</td>\n",
       "      <td>27</td>\n",
       "      <td>154.0</td>\n",
       "      <td>58.0</td>\n",
       "      <td>10.0</td>\n",
       "      <td>81.0</td>\n",
       "      <td>39.8</td>\n",
       "    </tr>\n",
       "  </tbody>\n",
       "</table>\n",
       "</div>"
      ],
      "text/plain": [
       "    User_ID  Gender  Age  Height  Weight  Duration  Heart_Rate  Body_Temp\n",
       "0  14733363    male   68   190.0    94.0      29.0       105.0       40.8\n",
       "1  14861698  female   20   166.0    60.0      14.0        94.0       40.3\n",
       "2  11179863    male   69   179.0    79.0       5.0        88.0       38.7\n",
       "3  16180408  female   34   179.0    71.0      13.0       100.0       40.5\n",
       "4  17771927  female   27   154.0    58.0      10.0        81.0       39.8"
      ]
     },
     "execution_count": 4,
     "metadata": {},
     "output_type": "execute_result"
    }
   ],
   "source": [
    "df_e.head()"
   ]
  },
  {
   "cell_type": "code",
   "execution_count": 5,
   "id": "a27e4342",
   "metadata": {},
   "outputs": [
    {
     "data": {
      "text/html": [
       "<div>\n",
       "<style scoped>\n",
       "    .dataframe tbody tr th:only-of-type {\n",
       "        vertical-align: middle;\n",
       "    }\n",
       "\n",
       "    .dataframe tbody tr th {\n",
       "        vertical-align: top;\n",
       "    }\n",
       "\n",
       "    .dataframe thead th {\n",
       "        text-align: right;\n",
       "    }\n",
       "</style>\n",
       "<table border=\"1\" class=\"dataframe\">\n",
       "  <thead>\n",
       "    <tr style=\"text-align: right;\">\n",
       "      <th></th>\n",
       "      <th>User_ID</th>\n",
       "      <th>Calories</th>\n",
       "    </tr>\n",
       "  </thead>\n",
       "  <tbody>\n",
       "    <tr>\n",
       "      <th>0</th>\n",
       "      <td>14733363</td>\n",
       "      <td>231.0</td>\n",
       "    </tr>\n",
       "    <tr>\n",
       "      <th>1</th>\n",
       "      <td>14861698</td>\n",
       "      <td>66.0</td>\n",
       "    </tr>\n",
       "    <tr>\n",
       "      <th>2</th>\n",
       "      <td>11179863</td>\n",
       "      <td>26.0</td>\n",
       "    </tr>\n",
       "    <tr>\n",
       "      <th>3</th>\n",
       "      <td>16180408</td>\n",
       "      <td>71.0</td>\n",
       "    </tr>\n",
       "    <tr>\n",
       "      <th>4</th>\n",
       "      <td>17771927</td>\n",
       "      <td>35.0</td>\n",
       "    </tr>\n",
       "  </tbody>\n",
       "</table>\n",
       "</div>"
      ],
      "text/plain": [
       "    User_ID  Calories\n",
       "0  14733363     231.0\n",
       "1  14861698      66.0\n",
       "2  11179863      26.0\n",
       "3  16180408      71.0\n",
       "4  17771927      35.0"
      ]
     },
     "execution_count": 5,
     "metadata": {},
     "output_type": "execute_result"
    }
   ],
   "source": [
    "df_c.head()"
   ]
  },
  {
   "cell_type": "code",
   "execution_count": 6,
   "id": "f3b26824",
   "metadata": {},
   "outputs": [],
   "source": [
    "#concatenate two datasets calories and exercice\n",
    "data=pd.merge(df_e,df_c,on='User_ID')"
   ]
  },
  {
   "cell_type": "code",
   "execution_count": 7,
   "id": "de46d76f",
   "metadata": {},
   "outputs": [
    {
     "data": {
      "text/html": [
       "<div>\n",
       "<style scoped>\n",
       "    .dataframe tbody tr th:only-of-type {\n",
       "        vertical-align: middle;\n",
       "    }\n",
       "\n",
       "    .dataframe tbody tr th {\n",
       "        vertical-align: top;\n",
       "    }\n",
       "\n",
       "    .dataframe thead th {\n",
       "        text-align: right;\n",
       "    }\n",
       "</style>\n",
       "<table border=\"1\" class=\"dataframe\">\n",
       "  <thead>\n",
       "    <tr style=\"text-align: right;\">\n",
       "      <th></th>\n",
       "      <th>User_ID</th>\n",
       "      <th>Gender</th>\n",
       "      <th>Age</th>\n",
       "      <th>Height</th>\n",
       "      <th>Weight</th>\n",
       "      <th>Duration</th>\n",
       "      <th>Heart_Rate</th>\n",
       "      <th>Body_Temp</th>\n",
       "      <th>Calories</th>\n",
       "    </tr>\n",
       "  </thead>\n",
       "  <tbody>\n",
       "    <tr>\n",
       "      <th>0</th>\n",
       "      <td>14733363</td>\n",
       "      <td>male</td>\n",
       "      <td>68</td>\n",
       "      <td>190.0</td>\n",
       "      <td>94.0</td>\n",
       "      <td>29.0</td>\n",
       "      <td>105.0</td>\n",
       "      <td>40.8</td>\n",
       "      <td>231.0</td>\n",
       "    </tr>\n",
       "    <tr>\n",
       "      <th>1</th>\n",
       "      <td>14861698</td>\n",
       "      <td>female</td>\n",
       "      <td>20</td>\n",
       "      <td>166.0</td>\n",
       "      <td>60.0</td>\n",
       "      <td>14.0</td>\n",
       "      <td>94.0</td>\n",
       "      <td>40.3</td>\n",
       "      <td>66.0</td>\n",
       "    </tr>\n",
       "    <tr>\n",
       "      <th>2</th>\n",
       "      <td>11179863</td>\n",
       "      <td>male</td>\n",
       "      <td>69</td>\n",
       "      <td>179.0</td>\n",
       "      <td>79.0</td>\n",
       "      <td>5.0</td>\n",
       "      <td>88.0</td>\n",
       "      <td>38.7</td>\n",
       "      <td>26.0</td>\n",
       "    </tr>\n",
       "    <tr>\n",
       "      <th>3</th>\n",
       "      <td>16180408</td>\n",
       "      <td>female</td>\n",
       "      <td>34</td>\n",
       "      <td>179.0</td>\n",
       "      <td>71.0</td>\n",
       "      <td>13.0</td>\n",
       "      <td>100.0</td>\n",
       "      <td>40.5</td>\n",
       "      <td>71.0</td>\n",
       "    </tr>\n",
       "    <tr>\n",
       "      <th>4</th>\n",
       "      <td>17771927</td>\n",
       "      <td>female</td>\n",
       "      <td>27</td>\n",
       "      <td>154.0</td>\n",
       "      <td>58.0</td>\n",
       "      <td>10.0</td>\n",
       "      <td>81.0</td>\n",
       "      <td>39.8</td>\n",
       "      <td>35.0</td>\n",
       "    </tr>\n",
       "  </tbody>\n",
       "</table>\n",
       "</div>"
      ],
      "text/plain": [
       "    User_ID  Gender  Age  Height  Weight  Duration  Heart_Rate  Body_Temp  \\\n",
       "0  14733363    male   68   190.0    94.0      29.0       105.0       40.8   \n",
       "1  14861698  female   20   166.0    60.0      14.0        94.0       40.3   \n",
       "2  11179863    male   69   179.0    79.0       5.0        88.0       38.7   \n",
       "3  16180408  female   34   179.0    71.0      13.0       100.0       40.5   \n",
       "4  17771927  female   27   154.0    58.0      10.0        81.0       39.8   \n",
       "\n",
       "   Calories  \n",
       "0     231.0  \n",
       "1      66.0  \n",
       "2      26.0  \n",
       "3      71.0  \n",
       "4      35.0  "
      ]
     },
     "execution_count": 7,
     "metadata": {},
     "output_type": "execute_result"
    }
   ],
   "source": [
    "#First 5  rows of our data\n",
    "data.head()"
   ]
  },
  {
   "cell_type": "code",
   "execution_count": 8,
   "id": "a0a4d0e8",
   "metadata": {},
   "outputs": [
    {
     "name": "stdout",
     "output_type": "stream",
     "text": [
      "<class 'pandas.core.frame.DataFrame'>\n",
      "Int64Index: 15000 entries, 0 to 14999\n",
      "Data columns (total 9 columns):\n",
      " #   Column      Non-Null Count  Dtype  \n",
      "---  ------      --------------  -----  \n",
      " 0   User_ID     15000 non-null  int64  \n",
      " 1   Gender      15000 non-null  object \n",
      " 2   Age         15000 non-null  int64  \n",
      " 3   Height      15000 non-null  float64\n",
      " 4   Weight      15000 non-null  float64\n",
      " 5   Duration    15000 non-null  float64\n",
      " 6   Heart_Rate  15000 non-null  float64\n",
      " 7   Body_Temp   15000 non-null  float64\n",
      " 8   Calories    15000 non-null  float64\n",
      "dtypes: float64(6), int64(2), object(1)\n",
      "memory usage: 1.1+ MB\n"
     ]
    }
   ],
   "source": [
    "#explore data types\n",
    "data.info()"
   ]
  },
  {
   "cell_type": "code",
   "execution_count": 9,
   "id": "6501f9ff",
   "metadata": {},
   "outputs": [
    {
     "data": {
      "text/html": [
       "<div>\n",
       "<style scoped>\n",
       "    .dataframe tbody tr th:only-of-type {\n",
       "        vertical-align: middle;\n",
       "    }\n",
       "\n",
       "    .dataframe tbody tr th {\n",
       "        vertical-align: top;\n",
       "    }\n",
       "\n",
       "    .dataframe thead th {\n",
       "        text-align: right;\n",
       "    }\n",
       "</style>\n",
       "<table border=\"1\" class=\"dataframe\">\n",
       "  <thead>\n",
       "    <tr style=\"text-align: right;\">\n",
       "      <th></th>\n",
       "      <th>User_ID</th>\n",
       "      <th>Age</th>\n",
       "      <th>Height</th>\n",
       "      <th>Weight</th>\n",
       "      <th>Duration</th>\n",
       "      <th>Heart_Rate</th>\n",
       "      <th>Body_Temp</th>\n",
       "      <th>Calories</th>\n",
       "    </tr>\n",
       "  </thead>\n",
       "  <tbody>\n",
       "    <tr>\n",
       "      <th>count</th>\n",
       "      <td>1.500000e+04</td>\n",
       "      <td>15000.000000</td>\n",
       "      <td>15000.000000</td>\n",
       "      <td>15000.000000</td>\n",
       "      <td>15000.000000</td>\n",
       "      <td>15000.000000</td>\n",
       "      <td>15000.000000</td>\n",
       "      <td>15000.000000</td>\n",
       "    </tr>\n",
       "    <tr>\n",
       "      <th>mean</th>\n",
       "      <td>1.497736e+07</td>\n",
       "      <td>42.789800</td>\n",
       "      <td>174.465133</td>\n",
       "      <td>74.966867</td>\n",
       "      <td>15.530600</td>\n",
       "      <td>95.518533</td>\n",
       "      <td>40.025453</td>\n",
       "      <td>89.539533</td>\n",
       "    </tr>\n",
       "    <tr>\n",
       "      <th>std</th>\n",
       "      <td>2.872851e+06</td>\n",
       "      <td>16.980264</td>\n",
       "      <td>14.258114</td>\n",
       "      <td>15.035657</td>\n",
       "      <td>8.319203</td>\n",
       "      <td>9.583328</td>\n",
       "      <td>0.779230</td>\n",
       "      <td>62.456978</td>\n",
       "    </tr>\n",
       "    <tr>\n",
       "      <th>min</th>\n",
       "      <td>1.000116e+07</td>\n",
       "      <td>20.000000</td>\n",
       "      <td>123.000000</td>\n",
       "      <td>36.000000</td>\n",
       "      <td>1.000000</td>\n",
       "      <td>67.000000</td>\n",
       "      <td>37.100000</td>\n",
       "      <td>1.000000</td>\n",
       "    </tr>\n",
       "    <tr>\n",
       "      <th>25%</th>\n",
       "      <td>1.247419e+07</td>\n",
       "      <td>28.000000</td>\n",
       "      <td>164.000000</td>\n",
       "      <td>63.000000</td>\n",
       "      <td>8.000000</td>\n",
       "      <td>88.000000</td>\n",
       "      <td>39.600000</td>\n",
       "      <td>35.000000</td>\n",
       "    </tr>\n",
       "    <tr>\n",
       "      <th>50%</th>\n",
       "      <td>1.499728e+07</td>\n",
       "      <td>39.000000</td>\n",
       "      <td>175.000000</td>\n",
       "      <td>74.000000</td>\n",
       "      <td>16.000000</td>\n",
       "      <td>96.000000</td>\n",
       "      <td>40.200000</td>\n",
       "      <td>79.000000</td>\n",
       "    </tr>\n",
       "    <tr>\n",
       "      <th>75%</th>\n",
       "      <td>1.744928e+07</td>\n",
       "      <td>56.000000</td>\n",
       "      <td>185.000000</td>\n",
       "      <td>87.000000</td>\n",
       "      <td>23.000000</td>\n",
       "      <td>103.000000</td>\n",
       "      <td>40.600000</td>\n",
       "      <td>138.000000</td>\n",
       "    </tr>\n",
       "    <tr>\n",
       "      <th>max</th>\n",
       "      <td>1.999965e+07</td>\n",
       "      <td>79.000000</td>\n",
       "      <td>222.000000</td>\n",
       "      <td>132.000000</td>\n",
       "      <td>30.000000</td>\n",
       "      <td>128.000000</td>\n",
       "      <td>41.500000</td>\n",
       "      <td>314.000000</td>\n",
       "    </tr>\n",
       "  </tbody>\n",
       "</table>\n",
       "</div>"
      ],
      "text/plain": [
       "            User_ID           Age        Height        Weight      Duration  \\\n",
       "count  1.500000e+04  15000.000000  15000.000000  15000.000000  15000.000000   \n",
       "mean   1.497736e+07     42.789800    174.465133     74.966867     15.530600   \n",
       "std    2.872851e+06     16.980264     14.258114     15.035657      8.319203   \n",
       "min    1.000116e+07     20.000000    123.000000     36.000000      1.000000   \n",
       "25%    1.247419e+07     28.000000    164.000000     63.000000      8.000000   \n",
       "50%    1.499728e+07     39.000000    175.000000     74.000000     16.000000   \n",
       "75%    1.744928e+07     56.000000    185.000000     87.000000     23.000000   \n",
       "max    1.999965e+07     79.000000    222.000000    132.000000     30.000000   \n",
       "\n",
       "         Heart_Rate     Body_Temp      Calories  \n",
       "count  15000.000000  15000.000000  15000.000000  \n",
       "mean      95.518533     40.025453     89.539533  \n",
       "std        9.583328      0.779230     62.456978  \n",
       "min       67.000000     37.100000      1.000000  \n",
       "25%       88.000000     39.600000     35.000000  \n",
       "50%       96.000000     40.200000     79.000000  \n",
       "75%      103.000000     40.600000    138.000000  \n",
       "max      128.000000     41.500000    314.000000  "
      ]
     },
     "execution_count": 9,
     "metadata": {},
     "output_type": "execute_result"
    }
   ],
   "source": [
    "#describe data features\n",
    "data.describe()"
   ]
  },
  {
   "cell_type": "code",
   "execution_count": 10,
   "id": "157747cd",
   "metadata": {},
   "outputs": [
    {
     "data": {
      "text/plain": [
       "User_ID       0\n",
       "Gender        0\n",
       "Age           0\n",
       "Height        0\n",
       "Weight        0\n",
       "Duration      0\n",
       "Heart_Rate    0\n",
       "Body_Temp     0\n",
       "Calories      0\n",
       "dtype: int64"
      ]
     },
     "execution_count": 10,
     "metadata": {},
     "output_type": "execute_result"
    }
   ],
   "source": [
    "#check null values\n",
    "data.isnull().sum()"
   ]
  },
  {
   "cell_type": "code",
   "execution_count": 11,
   "id": "c0be1314",
   "metadata": {},
   "outputs": [
    {
     "data": {
      "text/plain": [
       "0"
      ]
     },
     "execution_count": 11,
     "metadata": {},
     "output_type": "execute_result"
    }
   ],
   "source": [
    "#verify duplicate values\n",
    "data.duplicated().sum()"
   ]
  },
  {
   "cell_type": "code",
   "execution_count": 12,
   "id": "c58c3002",
   "metadata": {},
   "outputs": [],
   "source": [
    "#plot graph for numerical and categorical columns\n",
    "def plot_graph(data):\n",
    "    num_col=data.select_dtypes(include=np.number).columns\n",
    "    for column in num_col:\n",
    "        plt.figure(figsize=(5,3))\n",
    "        sns.distplot(data[column],kde=True)\n",
    "        plt.title(f\"Histogram for {column}\")\n",
    "        plt.xlabel(column)\n",
    "        plt.ylabel(\"Frequency\")\n",
    "        plt.show()\n",
    "        \n",
    "    cat_col=data.select_dtypes(include='object').columns\n",
    "    for column in cat_col:\n",
    "        plt.figure(figsize=(5,3))\n",
    "        sns.countplot(data[column])\n",
    "        plt.title(f\"Countplot for {column}\")\n",
    "        plt.xlabel(column)\n",
    "        plt.ylabel(\"Count\")\n",
    "        plt.show()"
   ]
  },
  {
   "cell_type": "code",
   "execution_count": 13,
   "id": "13da1ba1",
   "metadata": {},
   "outputs": [
    {
     "data": {
      "image/png": "[encoded data removed]",
      "text/plain": [
       "<Figure size 360x216 with 1 Axes>"
      ]
     },
     "metadata": {
      "needs_background": "light"
     },
     "output_type": "display_data"
    },
    {
     "data": {
      "image/png": "[encoded data removed]",
      "text/plain": [
       "<Figure size 360x216 with 1 Axes>"
      ]
     },
     "metadata": {
      "needs_background": "light"
     },
     "output_type": "display_data"
    },
    {
     "data": {
      "image/png": "[encoded data removed]",
      "text/plain": [
       "<Figure size 360x216 with 1 Axes>"
      ]
     },
     "metadata": {
      "needs_background": "light"
     },
     "output_type": "display_data"
    },
    {
     "data": {
      "image/png": "[encoded data removed]",
      "text/plain": [
       "<Figure size 360x216 with 1 Axes>"
      ]
     },
     "metadata": {
      "needs_background": "light"
     },
     "output_type": "display_data"
    },
    {
     "data": {
      "image/png": "[encoded data removed]",
      "text/plain": [
       "<Figure size 360x216 with 1 Axes>"
      ]
     },
     "metadata": {
      "needs_background": "light"
     },
     "output_type": "display_data"
    },
    {
     "data": {
      "image/png": "[encoded data removed]",
      "text/plain": [
       "<Figure size 360x216 with 1 Axes>"
      ]
     },
     "metadata": {
      "needs_background": "light"
     },
     "output_type": "display_data"
    },
    {
     "data": {
      "image/png": "[encoded data removed]",
      "text/plain": [
       "<Figure size 360x216 with 1 Axes>"
      ]
     },
     "metadata": {
      "needs_background": "light"
     },
     "output_type": "display_data"
    },
    {
     "data": {
      "image/png": "[encoded data removed]",
      "text/plain": [
       "<Figure size 360x216 with 1 Axes>"
      ]
     },
     "metadata": {
      "needs_background": "light"
     },
     "output_type": "display_data"
    },
    {
     "data": {
      "image/png": "[encoded data removed]",
      "text/plain": [
       "<Figure size 360x216 with 1 Axes>"
      ]
     },
     "metadata": {
      "needs_background": "light"
     },
     "output_type": "display_data"
    }
   ],
   "source": [
    "plot_graph(data)"
   ]
  },
  {
   "cell_type": "code",
   "execution_count": 14,
   "id": "45454507",
   "metadata": {},
   "outputs": [],
   "source": [
    "#Split our data on X and y\n",
    "X=data.drop(columns=['Calories','User_ID'],axis=1)\n",
    "y=data['Calories']"
   ]
  },
  {
   "cell_type": "code",
   "execution_count": 15,
   "id": "d94bb60a",
   "metadata": {},
   "outputs": [],
   "source": [
    "#create X_train,y_train,X_test,y_test\n",
    "X_train,X_test,y_train,y_test=train_test_split(X,y,test_size=0.20,random_state=40)\n"
   ]
  },
  {
   "cell_type": "code",
   "execution_count": 16,
   "id": "15c80a30",
   "metadata": {},
   "outputs": [
    {
     "data": {
      "text/html": [
       "<div>\n",
       "<style scoped>\n",
       "    .dataframe tbody tr th:only-of-type {\n",
       "        vertical-align: middle;\n",
       "    }\n",
       "\n",
       "    .dataframe tbody tr th {\n",
       "        vertical-align: top;\n",
       "    }\n",
       "\n",
       "    .dataframe thead th {\n",
       "        text-align: right;\n",
       "    }\n",
       "</style>\n",
       "<table border=\"1\" class=\"dataframe\">\n",
       "  <thead>\n",
       "    <tr style=\"text-align: right;\">\n",
       "      <th></th>\n",
       "      <th>Gender</th>\n",
       "      <th>Age</th>\n",
       "      <th>Height</th>\n",
       "      <th>Weight</th>\n",
       "      <th>Duration</th>\n",
       "      <th>Heart_Rate</th>\n",
       "      <th>Body_Temp</th>\n",
       "    </tr>\n",
       "  </thead>\n",
       "  <tbody>\n",
       "    <tr>\n",
       "      <th>4741</th>\n",
       "      <td>female</td>\n",
       "      <td>22</td>\n",
       "      <td>182.0</td>\n",
       "      <td>74.0</td>\n",
       "      <td>9.0</td>\n",
       "      <td>85.0</td>\n",
       "      <td>39.8</td>\n",
       "    </tr>\n",
       "    <tr>\n",
       "      <th>6160</th>\n",
       "      <td>male</td>\n",
       "      <td>20</td>\n",
       "      <td>194.0</td>\n",
       "      <td>92.0</td>\n",
       "      <td>10.0</td>\n",
       "      <td>92.0</td>\n",
       "      <td>39.7</td>\n",
       "    </tr>\n",
       "    <tr>\n",
       "      <th>9466</th>\n",
       "      <td>female</td>\n",
       "      <td>68</td>\n",
       "      <td>164.0</td>\n",
       "      <td>65.0</td>\n",
       "      <td>11.0</td>\n",
       "      <td>97.0</td>\n",
       "      <td>39.7</td>\n",
       "    </tr>\n",
       "    <tr>\n",
       "      <th>12802</th>\n",
       "      <td>male</td>\n",
       "      <td>49</td>\n",
       "      <td>193.0</td>\n",
       "      <td>87.0</td>\n",
       "      <td>9.0</td>\n",
       "      <td>85.0</td>\n",
       "      <td>39.8</td>\n",
       "    </tr>\n",
       "    <tr>\n",
       "      <th>8391</th>\n",
       "      <td>female</td>\n",
       "      <td>70</td>\n",
       "      <td>167.0</td>\n",
       "      <td>64.0</td>\n",
       "      <td>22.0</td>\n",
       "      <td>97.0</td>\n",
       "      <td>40.4</td>\n",
       "    </tr>\n",
       "  </tbody>\n",
       "</table>\n",
       "</div>"
      ],
      "text/plain": [
       "       Gender  Age  Height  Weight  Duration  Heart_Rate  Body_Temp\n",
       "4741   female   22   182.0    74.0       9.0        85.0       39.8\n",
       "6160     male   20   194.0    92.0      10.0        92.0       39.7\n",
       "9466   female   68   164.0    65.0      11.0        97.0       39.7\n",
       "12802    male   49   193.0    87.0       9.0        85.0       39.8\n",
       "8391   female   70   167.0    64.0      22.0        97.0       40.4"
      ]
     },
     "execution_count": 16,
     "metadata": {},
     "output_type": "execute_result"
    }
   ],
   "source": [
    "X_train.head()"
   ]
  },
  {
   "cell_type": "markdown",
   "id": "227098d8",
   "metadata": {},
   "source": [
    "## Column Transformer"
   ]
  },
  {
   "cell_type": "code",
   "execution_count": 17,
   "id": "09cbacdd",
   "metadata": {},
   "outputs": [],
   "source": [
    "#create ColumnTransformer istance\n",
    "preprocessor=ColumnTransformer(transformers=[\n",
    "('Cat',OrdinalEncoder(),['Gender']),\n",
    "('num',StandardScaler(),['Age','Height','Weight','Duration','Heart_Rate','Body_Temp']),\n",
    "],remainder='passthrough')"
   ]
  },
  {
   "cell_type": "code",
   "execution_count": 18,
   "id": "d18eba4b",
   "metadata": {},
   "outputs": [],
   "source": [
    "pipe=Pipeline([('preprocessor',preprocessor),\n",
    "          (\"model\",LinearRegression())])"
   ]
  },
  {
   "cell_type": "code",
   "execution_count": 19,
   "id": "5a70f7b9",
   "metadata": {},
   "outputs": [],
   "source": [
    "set_config(display='diagram')"
   ]
  },
  {
   "cell_type": "code",
   "execution_count": 20,
   "id": "e21b99f8",
   "metadata": {},
   "outputs": [
    {
     "data": {
      "text/html": [
       "<style>div.sk-top-container {color: black;background-color: white;}div.sk-toggleable {background-color: white;}label.sk-toggleable__label {cursor: pointer;display: block;width: 100%;margin-bottom: 0;padding: 0.2em 0.3em;box-sizing: border-box;text-align: center;}div.sk-toggleable__content {max-height: 0;max-width: 0;overflow: hidden;text-align: left;background-color: #f0f8ff;}div.sk-toggleable__content pre {margin: 0.2em;color: black;border-radius: 0.25em;background-color: #f0f8ff;}input.sk-toggleable__control:checked~div.sk-toggleable__content {max-height: 200px;max-width: 100%;overflow: auto;}div.sk-estimator input.sk-toggleable__control:checked~label.sk-toggleable__label {background-color: #d4ebff;}div.sk-label input.sk-toggleable__control:checked~label.sk-toggleable__label {background-color: #d4ebff;}input.sk-hidden--visually {border: 0;clip: rect(1px 1px 1px 1px);clip: rect(1px, 1px, 1px, 1px);height: 1px;margin: -1px;overflow: hidden;padding: 0;position: absolute;width: 1px;}div.sk-estimator {font-family: monospace;background-color: #f0f8ff;margin: 0.25em 0.25em;border: 1px dotted black;border-radius: 0.25em;box-sizing: border-box;}div.sk-estimator:hover {background-color: #d4ebff;}div.sk-parallel-item::after {content: \"\";width: 100%;border-bottom: 1px solid gray;flex-grow: 1;}div.sk-label:hover label.sk-toggleable__label {background-color: #d4ebff;}div.sk-serial::before {content: \"\";position: absolute;border-left: 1px solid gray;box-sizing: border-box;top: 2em;bottom: 0;left: 50%;}div.sk-serial {display: flex;flex-direction: column;align-items: center;background-color: white;}div.sk-item {z-index: 1;}div.sk-parallel {display: flex;align-items: stretch;justify-content: center;background-color: white;}div.sk-parallel-item {display: flex;flex-direction: column;position: relative;background-color: white;}div.sk-parallel-item:first-child::after {align-self: flex-end;width: 50%;}div.sk-parallel-item:last-child::after {align-self: flex-start;width: 50%;}div.sk-parallel-item:only-child::after {width: 0;}div.sk-dashed-wrapped {border: 1px dashed gray;margin: 0.2em;box-sizing: border-box;padding-bottom: 0.1em;background-color: white;position: relative;}div.sk-label label {font-family: monospace;font-weight: bold;background-color: white;display: inline-block;line-height: 1.2em;}div.sk-label-container {position: relative;z-index: 2;text-align: center;}div.sk-container {display: inline-block;position: relative;}</style><div class=\"sk-top-container\"><div class=\"sk-container\"><div class=\"sk-item sk-dashed-wrapped\"><div class=\"sk-label-container\"><div class=\"sk-label sk-toggleable\"><input class=\"sk-toggleable__control sk-hidden--visually\" id=\"bfc7929a-ef97-4774-b6f9-05038e175afa\" type=\"checkbox\" ><label class=\"sk-toggleable__label\" for=\"bfc7929a-ef97-4774-b6f9-05038e175afa\">Pipeline</label><div class=\"sk-toggleable__content\"><pre>Pipeline(steps=[('preprocessor',\n",
       "                 ColumnTransformer(remainder='passthrough',\n",
       "                                   transformers=[('Cat', OrdinalEncoder(),\n",
       "                                                  ['Gender']),\n",
       "                                                 ('num', StandardScaler(),\n",
       "                                                  ['Age', 'Height', 'Weight',\n",
       "                                                   'Duration', 'Heart_Rate',\n",
       "                                                   'Body_Temp'])])),\n",
       "                ('model', LinearRegression())])</pre></div></div></div><div class=\"sk-serial\"><div class=\"sk-item sk-dashed-wrapped\"><div class=\"sk-label-container\"><div class=\"sk-label sk-toggleable\"><input class=\"sk-toggleable__control sk-hidden--visually\" id=\"78c6719f-0f71-4d90-91ac-2b44f2ef1f3d\" type=\"checkbox\" ><label class=\"sk-toggleable__label\" for=\"78c6719f-0f71-4d90-91ac-2b44f2ef1f3d\">preprocessor: ColumnTransformer</label><div class=\"sk-toggleable__content\"><pre>ColumnTransformer(remainder='passthrough',\n",
       "                  transformers=[('Cat', OrdinalEncoder(), ['Gender']),\n",
       "                                ('num', StandardScaler(),\n",
       "                                 ['Age', 'Height', 'Weight', 'Duration',\n",
       "                                  'Heart_Rate', 'Body_Temp'])])</pre></div></div></div><div class=\"sk-parallel\"><div class=\"sk-parallel-item\"><div class=\"sk-item\"><div class=\"sk-label-container\"><div class=\"sk-label sk-toggleable\"><input class=\"sk-toggleable__control sk-hidden--visually\" id=\"d9d8a4be-c711-4c75-a0b8-98a72b6ce8e7\" type=\"checkbox\" ><label class=\"sk-toggleable__label\" for=\"d9d8a4be-c711-4c75-a0b8-98a72b6ce8e7\">Cat</label><div class=\"sk-toggleable__content\"><pre>['Gender']</pre></div></div></div><div class=\"sk-serial\"><div class=\"sk-item\"><div class=\"sk-estimator sk-toggleable\"><input class=\"sk-toggleable__control sk-hidden--visually\" id=\"ad2d0117-603e-4110-aa2c-710982f48564\" type=\"checkbox\" ><label class=\"sk-toggleable__label\" for=\"ad2d0117-603e-4110-aa2c-710982f48564\">OrdinalEncoder</label><div class=\"sk-toggleable__content\"><pre>OrdinalEncoder()</pre></div></div></div></div></div></div><div class=\"sk-parallel-item\"><div class=\"sk-item\"><div class=\"sk-label-container\"><div class=\"sk-label sk-toggleable\"><input class=\"sk-toggleable__control sk-hidden--visually\" id=\"8ca726ef-17be-4d3b-a0de-2bc899683ede\" type=\"checkbox\" ><label class=\"sk-toggleable__label\" for=\"8ca726ef-17be-4d3b-a0de-2bc899683ede\">num</label><div class=\"sk-toggleable__content\"><pre>['Age', 'Height', 'Weight', 'Duration', 'Heart_Rate', 'Body_Temp']</pre></div></div></div><div class=\"sk-serial\"><div class=\"sk-item\"><div class=\"sk-estimator sk-toggleable\"><input class=\"sk-toggleable__control sk-hidden--visually\" id=\"90b4e644-1c56-48de-ba68-19ffd6554d90\" type=\"checkbox\" ><label class=\"sk-toggleable__label\" for=\"90b4e644-1c56-48de-ba68-19ffd6554d90\">StandardScaler</label><div class=\"sk-toggleable__content\"><pre>StandardScaler()</pre></div></div></div></div></div></div><div class=\"sk-parallel-item\"><div class=\"sk-item\"><div class=\"sk-label-container\"><div class=\"sk-label sk-toggleable\"><input class=\"sk-toggleable__control sk-hidden--visually\" id=\"c27f5602-91fe-4efb-aa85-0719c9582cd9\" type=\"checkbox\" ><label class=\"sk-toggleable__label\" for=\"c27f5602-91fe-4efb-aa85-0719c9582cd9\">remainder</label><div class=\"sk-toggleable__content\"><pre></pre></div></div></div><div class=\"sk-serial\"><div class=\"sk-item\"><div class=\"sk-estimator sk-toggleable\"><input class=\"sk-toggleable__control sk-hidden--visually\" id=\"6d48fafb-c69b-4f98-a0a7-2d8632c08bac\" type=\"checkbox\" ><label class=\"sk-toggleable__label\" for=\"6d48fafb-c69b-4f98-a0a7-2d8632c08bac\">passthrough</label><div class=\"sk-toggleable__content\"><pre>passthrough</pre></div></div></div></div></div></div></div></div><div class=\"sk-item\"><div class=\"sk-estimator sk-toggleable\"><input class=\"sk-toggleable__control sk-hidden--visually\" id=\"4b4a4e39-d290-41cf-a5cf-34e22cb9f03c\" type=\"checkbox\" ><label class=\"sk-toggleable__label\" for=\"4b4a4e39-d290-41cf-a5cf-34e22cb9f03c\">LinearRegression</label><div class=\"sk-toggleable__content\"><pre>LinearRegression()</pre></div></div></div></div></div></div></div>"
      ],
      "text/plain": [
       "Pipeline(steps=[('preprocessor',\n",
       "                 ColumnTransformer(remainder='passthrough',\n",
       "                                   transformers=[('Cat', OrdinalEncoder(),\n",
       "                                                  ['Gender']),\n",
       "                                                 ('num', StandardScaler(),\n",
       "                                                  ['Age', 'Height', 'Weight',\n",
       "                                                   'Duration', 'Heart_Rate',\n",
       "                                                   'Body_Temp'])])),\n",
       "                ('model', LinearRegression())])"
      ]
     },
     "execution_count": 20,
     "metadata": {},
     "output_type": "execute_result"
    }
   ],
   "source": [
    "#visualize our pipeline pipe as a schema\n",
    "pipe"
   ]
  },
  {
   "cell_type": "code",
   "execution_count": 21,
   "id": "befc9c02",
   "metadata": {},
   "outputs": [
    {
     "data": {
      "text/html": [
       "<style>div.sk-top-container {color: black;background-color: white;}div.sk-toggleable {background-color: white;}label.sk-toggleable__label {cursor: pointer;display: block;width: 100%;margin-bottom: 0;padding: 0.2em 0.3em;box-sizing: border-box;text-align: center;}div.sk-toggleable__content {max-height: 0;max-width: 0;overflow: hidden;text-align: left;background-color: #f0f8ff;}div.sk-toggleable__content pre {margin: 0.2em;color: black;border-radius: 0.25em;background-color: #f0f8ff;}input.sk-toggleable__control:checked~div.sk-toggleable__content {max-height: 200px;max-width: 100%;overflow: auto;}div.sk-estimator input.sk-toggleable__control:checked~label.sk-toggleable__label {background-color: #d4ebff;}div.sk-label input.sk-toggleable__control:checked~label.sk-toggleable__label {background-color: #d4ebff;}input.sk-hidden--visually {border: 0;clip: rect(1px 1px 1px 1px);clip: rect(1px, 1px, 1px, 1px);height: 1px;margin: -1px;overflow: hidden;padding: 0;position: absolute;width: 1px;}div.sk-estimator {font-family: monospace;background-color: #f0f8ff;margin: 0.25em 0.25em;border: 1px dotted black;border-radius: 0.25em;box-sizing: border-box;}div.sk-estimator:hover {background-color: #d4ebff;}div.sk-parallel-item::after {content: \"\";width: 100%;border-bottom: 1px solid gray;flex-grow: 1;}div.sk-label:hover label.sk-toggleable__label {background-color: #d4ebff;}div.sk-serial::before {content: \"\";position: absolute;border-left: 1px solid gray;box-sizing: border-box;top: 2em;bottom: 0;left: 50%;}div.sk-serial {display: flex;flex-direction: column;align-items: center;background-color: white;}div.sk-item {z-index: 1;}div.sk-parallel {display: flex;align-items: stretch;justify-content: center;background-color: white;}div.sk-parallel-item {display: flex;flex-direction: column;position: relative;background-color: white;}div.sk-parallel-item:first-child::after {align-self: flex-end;width: 50%;}div.sk-parallel-item:last-child::after {align-self: flex-start;width: 50%;}div.sk-parallel-item:only-child::after {width: 0;}div.sk-dashed-wrapped {border: 1px dashed gray;margin: 0.2em;box-sizing: border-box;padding-bottom: 0.1em;background-color: white;position: relative;}div.sk-label label {font-family: monospace;font-weight: bold;background-color: white;display: inline-block;line-height: 1.2em;}div.sk-label-container {position: relative;z-index: 2;text-align: center;}div.sk-container {display: inline-block;position: relative;}</style><div class=\"sk-top-container\"><div class=\"sk-container\"><div class=\"sk-item sk-dashed-wrapped\"><div class=\"sk-label-container\"><div class=\"sk-label sk-toggleable\"><input class=\"sk-toggleable__control sk-hidden--visually\" id=\"ea78954f-1a78-421c-b1a3-aa8a4acdad63\" type=\"checkbox\" ><label class=\"sk-toggleable__label\" for=\"ea78954f-1a78-421c-b1a3-aa8a4acdad63\">Pipeline</label><div class=\"sk-toggleable__content\"><pre>Pipeline(steps=[('preprocessor',\n",
       "                 ColumnTransformer(remainder='passthrough',\n",
       "                                   transformers=[('Cat', OrdinalEncoder(),\n",
       "                                                  ['Gender']),\n",
       "                                                 ('num', StandardScaler(),\n",
       "                                                  ['Age', 'Height', 'Weight',\n",
       "                                                   'Duration', 'Heart_Rate',\n",
       "                                                   'Body_Temp'])])),\n",
       "                ('model', LinearRegression())])</pre></div></div></div><div class=\"sk-serial\"><div class=\"sk-item sk-dashed-wrapped\"><div class=\"sk-label-container\"><div class=\"sk-label sk-toggleable\"><input class=\"sk-toggleable__control sk-hidden--visually\" id=\"3f951ed2-4542-44a1-b48b-ac43771c160c\" type=\"checkbox\" ><label class=\"sk-toggleable__label\" for=\"3f951ed2-4542-44a1-b48b-ac43771c160c\">preprocessor: ColumnTransformer</label><div class=\"sk-toggleable__content\"><pre>ColumnTransformer(remainder='passthrough',\n",
       "                  transformers=[('Cat', OrdinalEncoder(), ['Gender']),\n",
       "                                ('num', StandardScaler(),\n",
       "                                 ['Age', 'Height', 'Weight', 'Duration',\n",
       "                                  'Heart_Rate', 'Body_Temp'])])</pre></div></div></div><div class=\"sk-parallel\"><div class=\"sk-parallel-item\"><div class=\"sk-item\"><div class=\"sk-label-container\"><div class=\"sk-label sk-toggleable\"><input class=\"sk-toggleable__control sk-hidden--visually\" id=\"dec8472d-e4ca-4a23-8da0-77f55b359243\" type=\"checkbox\" ><label class=\"sk-toggleable__label\" for=\"dec8472d-e4ca-4a23-8da0-77f55b359243\">Cat</label><div class=\"sk-toggleable__content\"><pre>['Gender']</pre></div></div></div><div class=\"sk-serial\"><div class=\"sk-item\"><div class=\"sk-estimator sk-toggleable\"><input class=\"sk-toggleable__control sk-hidden--visually\" id=\"3edc2315-3834-42fc-9ca6-410d261c504f\" type=\"checkbox\" ><label class=\"sk-toggleable__label\" for=\"3edc2315-3834-42fc-9ca6-410d261c504f\">OrdinalEncoder</label><div class=\"sk-toggleable__content\"><pre>OrdinalEncoder()</pre></div></div></div></div></div></div><div class=\"sk-parallel-item\"><div class=\"sk-item\"><div class=\"sk-label-container\"><div class=\"sk-label sk-toggleable\"><input class=\"sk-toggleable__control sk-hidden--visually\" id=\"21e3f16a-e3cc-473c-a2c6-059ab68e89d3\" type=\"checkbox\" ><label class=\"sk-toggleable__label\" for=\"21e3f16a-e3cc-473c-a2c6-059ab68e89d3\">num</label><div class=\"sk-toggleable__content\"><pre>['Age', 'Height', 'Weight', 'Duration', 'Heart_Rate', 'Body_Temp']</pre></div></div></div><div class=\"sk-serial\"><div class=\"sk-item\"><div class=\"sk-estimator sk-toggleable\"><input class=\"sk-toggleable__control sk-hidden--visually\" id=\"68bd6822-bb8a-4088-b0cc-956964efdbba\" type=\"checkbox\" ><label class=\"sk-toggleable__label\" for=\"68bd6822-bb8a-4088-b0cc-956964efdbba\">StandardScaler</label><div class=\"sk-toggleable__content\"><pre>StandardScaler()</pre></div></div></div></div></div></div><div class=\"sk-parallel-item\"><div class=\"sk-item\"><div class=\"sk-label-container\"><div class=\"sk-label sk-toggleable\"><input class=\"sk-toggleable__control sk-hidden--visually\" id=\"a2636c38-8eb4-4fd5-a02d-9dff0e79a4c4\" type=\"checkbox\" ><label class=\"sk-toggleable__label\" for=\"a2636c38-8eb4-4fd5-a02d-9dff0e79a4c4\">remainder</label><div class=\"sk-toggleable__content\"><pre>[['Gender', 'Age', 'Height', 'Weight', 'Duration', 'Heart_Rate', 'Body_Temp']]</pre></div></div></div><div class=\"sk-serial\"><div class=\"sk-item\"><div class=\"sk-estimator sk-toggleable\"><input class=\"sk-toggleable__control sk-hidden--visually\" id=\"467d8b87-3efd-4ef9-a1b2-4bc662c8d5aa\" type=\"checkbox\" ><label class=\"sk-toggleable__label\" for=\"467d8b87-3efd-4ef9-a1b2-4bc662c8d5aa\">passthrough</label><div class=\"sk-toggleable__content\"><pre>passthrough</pre></div></div></div></div></div></div></div></div><div class=\"sk-item\"><div class=\"sk-estimator sk-toggleable\"><input class=\"sk-toggleable__control sk-hidden--visually\" id=\"0cb66e7e-476a-43ee-90ed-1cc0d0141ce3\" type=\"checkbox\" ><label class=\"sk-toggleable__label\" for=\"0cb66e7e-476a-43ee-90ed-1cc0d0141ce3\">LinearRegression</label><div class=\"sk-toggleable__content\"><pre>LinearRegression()</pre></div></div></div></div></div></div></div>"
      ],
      "text/plain": [
       "Pipeline(steps=[('preprocessor',\n",
       "                 ColumnTransformer(remainder='passthrough',\n",
       "                                   transformers=[('Cat', OrdinalEncoder(),\n",
       "                                                  ['Gender']),\n",
       "                                                 ('num', StandardScaler(),\n",
       "                                                  ['Age', 'Height', 'Weight',\n",
       "                                                   'Duration', 'Heart_Rate',\n",
       "                                                   'Body_Temp'])])),\n",
       "                ('model', LinearRegression())])"
      ]
     },
     "execution_count": 21,
     "metadata": {},
     "output_type": "execute_result"
    }
   ],
   "source": [
    "#train our pipeline\n",
    "pipe.fit(X_train,y_train)"
   ]
  },
  {
   "cell_type": "code",
   "execution_count": 22,
   "id": "482cd56a",
   "metadata": {},
   "outputs": [],
   "source": [
    "#predict\n",
    "y_pred=pipe.predict(X_test)"
   ]
  },
  {
   "cell_type": "code",
   "execution_count": 23,
   "id": "ba1f4ff1",
   "metadata": {},
   "outputs": [
    {
     "name": "stdout",
     "output_type": "stream",
     "text": [
      "score R2 0.9645640644517228\n",
      "mean absolute error 8.556537349005168\n"
     ]
    }
   ],
   "source": [
    "#calculate metrics\n",
    "R2=r2_score(y_test,y_pred)\n",
    "print('score R2',R2)\n",
    "mae=mean_absolute_error(y_test,y_pred)\n",
    "print('mean absolute error',mae)\n"
   ]
  },
  {
   "cell_type": "markdown",
   "id": "cf2dd90f",
   "metadata": {},
   "source": [
    "## Kfold"
   ]
  },
  {
   "cell_type": "code",
   "execution_count": 24,
   "id": "725d6bd2",
   "metadata": {},
   "outputs": [],
   "source": [
    "kfold=KFold(n_splits=5,shuffle=True,random_state=42)\n"
   ]
  },
  {
   "cell_type": "markdown",
   "id": "ed11dbff",
   "metadata": {},
   "source": [
    "## Cross-Validation"
   ]
  },
  {
   "cell_type": "code",
   "execution_count": 25,
   "id": "ea3a6b37",
   "metadata": {},
   "outputs": [],
   "source": [
    "#cross vamidation isntance\n",
    "cv=cross_val_score(pipe,X,y,cv=kfold,scoring='r2')"
   ]
  },
  {
   "cell_type": "code",
   "execution_count": 26,
   "id": "ccd9abc3",
   "metadata": {},
   "outputs": [
    {
     "data": {
      "text/plain": [
       "0.9671402283675841"
      ]
     },
     "execution_count": 26,
     "metadata": {},
     "output_type": "execute_result"
    }
   ],
   "source": [
    "cv.mean()"
   ]
  },
  {
   "cell_type": "code",
   "execution_count": 27,
   "id": "046cdad0",
   "metadata": {},
   "outputs": [],
   "source": [
    "#implement function to train model\n",
    "def model_score(model_name,model):\n",
    "    output=[]\n",
    "    output.append(model_name)\n",
    "    #create pipeline for data preprocessing and modeling\n",
    "    pipe= Pipeline([('preprocessor',preprocessor),\n",
    "                        (\"model\",model)])\n",
    "    #split data on train and test\n",
    "    X_train,X_test,y_train,y_test=train_test_split(X,y,test_size=0.20,random_state=40)\n",
    "    \n",
    "    pipe.fit(X_train,y_train)\n",
    "    \n",
    "    y_pred=pipe.predict(X_test)\n",
    "    #evaluate ML model using r2_score\n",
    "    output.append(r2_score(y_test,y_pred))\n",
    "    #evaluate ML model using mean_absolute_error\n",
    "    output.append(mean_absolute_error(y_test,y_pred))\n",
    "    \n",
    "    kfold=KFold(n_splits=5,shuffle=True,random_state=42)\n",
    "    cv=cross_val_score(pipe,X,y,cv=kfold,scoring='r2')    \n",
    "    output.append(cv.mean())\n",
    "    \n",
    "    return output"
   ]
  },
  {
   "cell_type": "code",
   "execution_count": 28,
   "id": "54d9e0e4",
   "metadata": {},
   "outputs": [],
   "source": [
    "#Create dictionary icnludes LinearRegression, Xgboost,RandomForest\n",
    "model_dict={\n",
    "    'LR':LinearRegression(),\n",
    "    'XGB': XGBRegressor(),\n",
    "    'RF': RandomForestRegressor()\n",
    "}"
   ]
  },
  {
   "cell_type": "code",
   "execution_count": 29,
   "id": "416be66b",
   "metadata": {},
   "outputs": [],
   "source": [
    "model_output=[]\n",
    "for model_name,model in model_dict.items():\n",
    "    model_output.append(model_score(model_name,model))"
   ]
  },
  {
   "cell_type": "code",
   "execution_count": 30,
   "id": "ec134063",
   "metadata": {
    "scrolled": true
   },
   "outputs": [
    {
     "data": {
      "text/plain": [
       "[['LR', 0.9645640644517228, 8.556537349005168, 0.9671402283675841],\n",
       " ['XGB', 0.9988545571762693, 1.437071429948012, 0.9987673407571723],\n",
       " ['RF', 0.9977525350615899, 1.8441666666666667, 0.997935598203022]]"
      ]
     },
     "execution_count": 30,
     "metadata": {},
     "output_type": "execute_result"
    }
   ],
   "source": [
    "#calculate metrics for each model\n",
    "model_output"
   ]
  },
  {
   "cell_type": "markdown",
   "id": "7efae03e",
   "metadata": {},
   "source": [
    "* Xgboost model is the best powerful model with r2_score=99%"
   ]
  },
  {
   "cell_type": "markdown",
   "id": "9e93fff2",
   "metadata": {},
   "source": [
    "## Train our data with Xgboost "
   ]
  },
  {
   "cell_type": "code",
   "execution_count": 31,
   "id": "14e82a42",
   "metadata": {},
   "outputs": [],
   "source": [
    " pipe= Pipeline([('preprocessor',preprocessor),\n",
    "                        (\"model\",XGBRegressor())])"
   ]
  },
  {
   "cell_type": "code",
   "execution_count": 32,
   "id": "018fe39d",
   "metadata": {},
   "outputs": [
    {
     "data": {
      "text/html": [
       "<style>div.sk-top-container {color: black;background-color: white;}div.sk-toggleable {background-color: white;}label.sk-toggleable__label {cursor: pointer;display: block;width: 100%;margin-bottom: 0;padding: 0.2em 0.3em;box-sizing: border-box;text-align: center;}div.sk-toggleable__content {max-height: 0;max-width: 0;overflow: hidden;text-align: left;background-color: #f0f8ff;}div.sk-toggleable__content pre {margin: 0.2em;color: black;border-radius: 0.25em;background-color: #f0f8ff;}input.sk-toggleable__control:checked~div.sk-toggleable__content {max-height: 200px;max-width: 100%;overflow: auto;}div.sk-estimator input.sk-toggleable__control:checked~label.sk-toggleable__label {background-color: #d4ebff;}div.sk-label input.sk-toggleable__control:checked~label.sk-toggleable__label {background-color: #d4ebff;}input.sk-hidden--visually {border: 0;clip: rect(1px 1px 1px 1px);clip: rect(1px, 1px, 1px, 1px);height: 1px;margin: -1px;overflow: hidden;padding: 0;position: absolute;width: 1px;}div.sk-estimator {font-family: monospace;background-color: #f0f8ff;margin: 0.25em 0.25em;border: 1px dotted black;border-radius: 0.25em;box-sizing: border-box;}div.sk-estimator:hover {background-color: #d4ebff;}div.sk-parallel-item::after {content: \"\";width: 100%;border-bottom: 1px solid gray;flex-grow: 1;}div.sk-label:hover label.sk-toggleable__label {background-color: #d4ebff;}div.sk-serial::before {content: \"\";position: absolute;border-left: 1px solid gray;box-sizing: border-box;top: 2em;bottom: 0;left: 50%;}div.sk-serial {display: flex;flex-direction: column;align-items: center;background-color: white;}div.sk-item {z-index: 1;}div.sk-parallel {display: flex;align-items: stretch;justify-content: center;background-color: white;}div.sk-parallel-item {display: flex;flex-direction: column;position: relative;background-color: white;}div.sk-parallel-item:first-child::after {align-self: flex-end;width: 50%;}div.sk-parallel-item:last-child::after {align-self: flex-start;width: 50%;}div.sk-parallel-item:only-child::after {width: 0;}div.sk-dashed-wrapped {border: 1px dashed gray;margin: 0.2em;box-sizing: border-box;padding-bottom: 0.1em;background-color: white;position: relative;}div.sk-label label {font-family: monospace;font-weight: bold;background-color: white;display: inline-block;line-height: 1.2em;}div.sk-label-container {position: relative;z-index: 2;text-align: center;}div.sk-container {display: inline-block;position: relative;}</style><div class=\"sk-top-container\"><div class=\"sk-container\"><div class=\"sk-item sk-dashed-wrapped\"><div class=\"sk-label-container\"><div class=\"sk-label sk-toggleable\"><input class=\"sk-toggleable__control sk-hidden--visually\" id=\"9dbc03b4-7a34-4cf0-be5b-941c615d4983\" type=\"checkbox\" ><label class=\"sk-toggleable__label\" for=\"9dbc03b4-7a34-4cf0-be5b-941c615d4983\">Pipeline</label><div class=\"sk-toggleable__content\"><pre>Pipeline(steps=[('preprocessor',\n",
       "                 ColumnTransformer(remainder='passthrough',\n",
       "                                   transformers=[('Cat', OrdinalEncoder(),\n",
       "                                                  ['Gender']),\n",
       "                                                 ('num', StandardScaler(),\n",
       "                                                  ['Age', 'Height', 'Weight',\n",
       "                                                   'Duration', 'Heart_Rate',\n",
       "                                                   'Body_Temp'])])),\n",
       "                ('model',\n",
       "                 XGBRegressor(base_score=None, booster=None, callbacks=None,\n",
       "                              colsample_bylevel=None, colsample_bynode=None,\n",
       "                              colsample_bytree=None, ear...\n",
       "                              feature_types=None, gamma=None, gpu_id=None,\n",
       "                              grow_policy=None, importance_type=None,\n",
       "                              interaction_constraints=None, learning_rate=None,\n",
       "                              max_bin=None, max_cat_threshold=None,\n",
       "                              max_cat_to_onehot=None, max_delta_step=None,\n",
       "                              max_depth=None, max_leaves=None,\n",
       "                              min_child_weight=None, missing=nan,\n",
       "                              monotone_constraints=None, n_estimators=100,\n",
       "                              n_jobs=None, num_parallel_tree=None,\n",
       "                              predictor=None, random_state=None, ...))])</pre></div></div></div><div class=\"sk-serial\"><div class=\"sk-item sk-dashed-wrapped\"><div class=\"sk-label-container\"><div class=\"sk-label sk-toggleable\"><input class=\"sk-toggleable__control sk-hidden--visually\" id=\"97e4153b-b49c-4d73-af27-068888435c84\" type=\"checkbox\" ><label class=\"sk-toggleable__label\" for=\"97e4153b-b49c-4d73-af27-068888435c84\">preprocessor: ColumnTransformer</label><div class=\"sk-toggleable__content\"><pre>ColumnTransformer(remainder='passthrough',\n",
       "                  transformers=[('Cat', OrdinalEncoder(), ['Gender']),\n",
       "                                ('num', StandardScaler(),\n",
       "                                 ['Age', 'Height', 'Weight', 'Duration',\n",
       "                                  'Heart_Rate', 'Body_Temp'])])</pre></div></div></div><div class=\"sk-parallel\"><div class=\"sk-parallel-item\"><div class=\"sk-item\"><div class=\"sk-label-container\"><div class=\"sk-label sk-toggleable\"><input class=\"sk-toggleable__control sk-hidden--visually\" id=\"fd9f887a-7123-480f-95bb-03032284e6ad\" type=\"checkbox\" ><label class=\"sk-toggleable__label\" for=\"fd9f887a-7123-480f-95bb-03032284e6ad\">Cat</label><div class=\"sk-toggleable__content\"><pre>['Gender']</pre></div></div></div><div class=\"sk-serial\"><div class=\"sk-item\"><div class=\"sk-estimator sk-toggleable\"><input class=\"sk-toggleable__control sk-hidden--visually\" id=\"967d9e48-82d1-4a03-a2e6-cc18d390ea3c\" type=\"checkbox\" ><label class=\"sk-toggleable__label\" for=\"967d9e48-82d1-4a03-a2e6-cc18d390ea3c\">OrdinalEncoder</label><div class=\"sk-toggleable__content\"><pre>OrdinalEncoder()</pre></div></div></div></div></div></div><div class=\"sk-parallel-item\"><div class=\"sk-item\"><div class=\"sk-label-container\"><div class=\"sk-label sk-toggleable\"><input class=\"sk-toggleable__control sk-hidden--visually\" id=\"295a7a9d-e343-4741-a072-4d977035fa59\" type=\"checkbox\" ><label class=\"sk-toggleable__label\" for=\"295a7a9d-e343-4741-a072-4d977035fa59\">num</label><div class=\"sk-toggleable__content\"><pre>['Age', 'Height', 'Weight', 'Duration', 'Heart_Rate', 'Body_Temp']</pre></div></div></div><div class=\"sk-serial\"><div class=\"sk-item\"><div class=\"sk-estimator sk-toggleable\"><input class=\"sk-toggleable__control sk-hidden--visually\" id=\"75b6cd75-dd9c-4a0e-88de-82fd4a6f9051\" type=\"checkbox\" ><label class=\"sk-toggleable__label\" for=\"75b6cd75-dd9c-4a0e-88de-82fd4a6f9051\">StandardScaler</label><div class=\"sk-toggleable__content\"><pre>StandardScaler()</pre></div></div></div></div></div></div><div class=\"sk-parallel-item\"><div class=\"sk-item\"><div class=\"sk-label-container\"><div class=\"sk-label sk-toggleable\"><input class=\"sk-toggleable__control sk-hidden--visually\" id=\"97c89275-06a3-4c85-ae7d-870d8808659d\" type=\"checkbox\" ><label class=\"sk-toggleable__label\" for=\"97c89275-06a3-4c85-ae7d-870d8808659d\">remainder</label><div class=\"sk-toggleable__content\"><pre>[['Gender', 'Age', 'Height', 'Weight', 'Duration', 'Heart_Rate', 'Body_Temp']]</pre></div></div></div><div class=\"sk-serial\"><div class=\"sk-item\"><div class=\"sk-estimator sk-toggleable\"><input class=\"sk-toggleable__control sk-hidden--visually\" id=\"e9fb2411-8376-44d1-a178-f1fb2273a25b\" type=\"checkbox\" ><label class=\"sk-toggleable__label\" for=\"e9fb2411-8376-44d1-a178-f1fb2273a25b\">passthrough</label><div class=\"sk-toggleable__content\"><pre>passthrough</pre></div></div></div></div></div></div></div></div><div class=\"sk-item\"><div class=\"sk-estimator sk-toggleable\"><input class=\"sk-toggleable__control sk-hidden--visually\" id=\"d70f138b-6ec5-424f-9a53-5d7ddc6e8069\" type=\"checkbox\" ><label class=\"sk-toggleable__label\" for=\"d70f138b-6ec5-424f-9a53-5d7ddc6e8069\">XGBRegressor</label><div class=\"sk-toggleable__content\"><pre>XGBRegressor(base_score=None, booster=None, callbacks=None,\n",
       "             colsample_bylevel=None, colsample_bynode=None,\n",
       "             colsample_bytree=None, early_stopping_rounds=None,\n",
       "             enable_categorical=False, eval_metric=None, feature_types=None,\n",
       "             gamma=None, gpu_id=None, grow_policy=None, importance_type=None,\n",
       "             interaction_constraints=None, learning_rate=None, max_bin=None,\n",
       "             max_cat_threshold=None, max_cat_to_onehot=None,\n",
       "             max_delta_step=None, max_depth=None, max_leaves=None,\n",
       "             min_child_weight=None, missing=nan, monotone_constraints=None,\n",
       "             n_estimators=100, n_jobs=None, num_parallel_tree=None,\n",
       "             predictor=None, random_state=None, ...)</pre></div></div></div></div></div></div></div>"
      ],
      "text/plain": [
       "Pipeline(steps=[('preprocessor',\n",
       "                 ColumnTransformer(remainder='passthrough',\n",
       "                                   transformers=[('Cat', OrdinalEncoder(),\n",
       "                                                  ['Gender']),\n",
       "                                                 ('num', StandardScaler(),\n",
       "                                                  ['Age', 'Height', 'Weight',\n",
       "                                                   'Duration', 'Heart_Rate',\n",
       "                                                   'Body_Temp'])])),\n",
       "                ('model',\n",
       "                 XGBRegressor(base_score=None, booster=None, callbacks=None,\n",
       "                              colsample_bylevel=None, colsample_bynode=None,\n",
       "                              colsample_bytree=None, ear...\n",
       "                              feature_types=None, gamma=None, gpu_id=None,\n",
       "                              grow_policy=None, importance_type=None,\n",
       "                              interaction_constraints=None, learning_rate=None,\n",
       "                              max_bin=None, max_cat_threshold=None,\n",
       "                              max_cat_to_onehot=None, max_delta_step=None,\n",
       "                              max_depth=None, max_leaves=None,\n",
       "                              min_child_weight=None, missing=nan,\n",
       "                              monotone_constraints=None, n_estimators=100,\n",
       "                              n_jobs=None, num_parallel_tree=None,\n",
       "                              predictor=None, random_state=None, ...))])"
      ]
     },
     "execution_count": 32,
     "metadata": {},
     "output_type": "execute_result"
    }
   ],
   "source": [
    "pipe.fit(X,y)"
   ]
  },
  {
   "cell_type": "code",
   "execution_count": 33,
   "id": "7f981079",
   "metadata": {},
   "outputs": [],
   "source": [
    "#create an example\n",
    "sample= pd.DataFrame({\n",
    "    'Gender': 'male',\n",
    "    'Age':67,\n",
    "    'Height':190.0,\n",
    "    'Weight':90,\n",
    "    'Duration':29.0,\n",
    "    'Heart_Rate':100.0,\n",
    "    'Body_Temp':40.0,\n",
    "},index=[0])"
   ]
  },
  {
   "cell_type": "code",
   "execution_count": 34,
   "id": "8f92e706",
   "metadata": {},
   "outputs": [
    {
     "data": {
      "text/plain": [
       "array([203.00496], dtype=float32)"
      ]
     },
     "execution_count": 34,
     "metadata": {},
     "output_type": "execute_result"
    }
   ],
   "source": [
    "pipe.predict(sample)"
   ]
  },
  {
   "cell_type": "code",
   "execution_count": null,
   "id": "067c8446",
   "metadata": {},
   "outputs": [],
   "source": []
  },
  {
   "cell_type": "code",
   "execution_count": 35,
   "id": "ab243129",
   "metadata": {},
   "outputs": [],
   "source": [
    "with open('pipeline.pkl','wb') as f:\n",
    "    pickle.dump(pipe,f)"
   ]
  },
  {
   "cell_type": "code",
   "execution_count": 36,
   "id": "b0b7b3ba",
   "metadata": {},
   "outputs": [],
   "source": [
    "with open('pipeline.pkl','rb') as f:\n",
    "    pipe_saved=pickle.load(f)"
   ]
  },
  {
   "cell_type": "code",
   "execution_count": 49,
   "id": "e650be8c",
   "metadata": {},
   "outputs": [
    {
     "name": "stdout",
     "output_type": "stream",
     "text": [
      "[138.76082]\n"
     ]
    }
   ],
   "source": [
    "\n",
    "def show_entry():\n",
    "    with open ('pipeline.pkl','rb') as f:\n",
    "        pipe=pickle.load(f)\n",
    "        \n",
    "    p1= str(clicked.get())\n",
    "    p2= float(e2.get())\n",
    "    p3= float(e3.get())\n",
    "    p4= float(e4.get())\n",
    "    p5= float(e5.get())\n",
    "    p6= float(e6.get())    \n",
    "    p7= float(e7.get())    \n",
    "    \n",
    "    sample= pd.DataFrame({\n",
    "    'Gender': [p1],\n",
    "    'Age':[p2],\n",
    "    'Height':[p3],\n",
    "    'Weight':[p4],\n",
    "    'Duration':[p5],\n",
    "    'Heart_Rate':[p6],\n",
    "    'Body_Temp':[p7],\n",
    "},index=[0])\n",
    "    \n",
    "    result=pipe.predict(sample)\n",
    "    print(result)\n",
    "    Label(main,text=\"Amount ofcalories Burnt\").grid(row=13)\n",
    "    Label(main,text=result[0]).grid(row=14)\n",
    "    \n",
    "main=Tk()\n",
    "main.title(\"Calories Burnt Prediction \")\n",
    "label= Label(main,text=\"Calories Burnt \", bg=\"Black\",\n",
    "            fg=\"white\").grid(row=0,columnspan=2)\n",
    "\n",
    "Label(main,text=\"Select your gender\").grid(row=1)\n",
    "Label(main,text=\"Select your Age\").grid(row=2)\n",
    "Label(main,text=\"Enter your height\").grid(row=3)\n",
    "Label(main,text=\"Enter your Weight\").grid(row=4)\n",
    "Label(main,text=\"Exercice Duration\").grid(row=5)\n",
    "Label(main,text=\"Heart Rate\").grid(row=6)\n",
    "Label(main,text=\"Body Temperature\").grid(row=7)\n",
    "\n",
    "clicked=StringVar()\n",
    "options= ['male','female']\n",
    "\n",
    "e1=OptionMenu(main,clicked,*options)\n",
    "\n",
    "e1.configure(width=15)\n",
    "e2=Entry(main)\n",
    "e3=Entry(main)\n",
    "e4=Entry(main)\n",
    "e5=Entry(main)\n",
    "e6=Entry(main)\n",
    "e7=Entry(main)\n",
    "\n",
    "e1.grid(row=1,column=1)\n",
    "e2.grid(row=2,column=1)\n",
    "e3.grid(row=3,column=1)\n",
    "e4.grid(row=4,column=1)\n",
    "e5.grid(row=5,column=1)\n",
    "e6.grid(row=6,column=1)\n",
    "e7.grid(row=7,column=1)\n",
    "\n",
    "Button(main,text='predict',command=show_entry).grid()\n",
    "\n",
    "mainloop()"
   ]
  },
  {
   "cell_type": "code",
   "execution_count": null,
   "id": "1d76f5c5",
   "metadata": {},
   "outputs": [],
   "source": []
  }
 ],
 "metadata": {
  "kernelspec": {
   "display_name": "Python 3 (ipykernel)",
   "language": "python",
   "name": "python3"
  },
  "language_info": {
   "codemirror_mode": {
    "name": "ipython",
    "version": 3
   },
   "file_extension": ".py",
   "mimetype": "text/x-python",
   "name": "python",
   "nbconvert_exporter": "python",
   "pygments_lexer": "ipython3",
   "version": "3.9.12"
  }
 },
 "nbformat": 4,
 "nbformat_minor": 5
}
